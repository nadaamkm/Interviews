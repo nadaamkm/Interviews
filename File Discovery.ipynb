{
 "cells": [
  {
   "cell_type": "markdown",
   "id": "eff2ce39",
   "metadata": {},
   "source": [
    "**Author:** Nadaa Moharram <br/>\n",
    "**Purpose:** Analog Devices Interview  <br/>\n",
    "**Reviewer:** Chris Ampenberger  <br/>\n",
    "**Date:** 09/15/2022"
   ]
  },
  {
   "cell_type": "code",
   "execution_count": 1,
   "id": "5c76ee26",
   "metadata": {},
   "outputs": [],
   "source": [
    "import os"
   ]
  },
  {
   "cell_type": "code",
   "execution_count": 2,
   "id": "a882d9d9",
   "metadata": {},
   "outputs": [],
   "source": [
    "def file_analysis(directory, *ext):\n",
    "    \"\"\"\n",
    "    This function will identify the number of files with .ext extension, \n",
    "    locate all the files and subdirectories, total number of lines and average number \n",
    "    of lines per file \n",
    "    \"\"\"\n",
    "    #Check if user inputed an extension\n",
    "    if not ext:\n",
    "        ext=\".txt\"\n",
    "    count_files=0\n",
    "    count_lines=[]\n",
    "    #Walk through directory and files\n",
    "    for root, dirs, files in os.walk(path):\n",
    "        #For each file, check the extension\n",
    "        for file in files:\n",
    "            if(file.endswith(ext)):\n",
    "                print(os.path.join(root,file))\n",
    "                with open(os.path.join(root,file)) as f:\n",
    "                    x= len(f.readlines()) #Count the number of lines in the file\n",
    "                    count_lines.append(x)\n",
    "                    print('Total lines:', x)\n",
    "                    count_files+=1\n",
    "    #Check if the number of files is zero\n",
    "    if count_files==0:\n",
    "        average =0\n",
    "    else:\n",
    "        average=sum(count_lines)/count_files\n",
    "\n",
    "    print(\"\\n===========\")\n",
    "    print(\"Number of files found:  \", count_files)\n",
    "    print(\"Total number of lines:  \", sum(count_lines))\n",
    "    print(\"Average lines per file:  \", \"{:.2f}\".format(average))"
   ]
  },
  {
   "cell_type": "code",
   "execution_count": 5,
   "id": "979a9ee6",
   "metadata": {},
   "outputs": [
    {
     "name": "stdout",
     "output_type": "stream",
     "text": [
      "Data/AirPassengers.csv\n",
      "Total lines: 145\n",
      "Data/cars.csv\n",
      "Total lines: 33\n",
      "Data/coupons.csv\n",
      "Total lines: 12685\n",
      "Data/housing.csv\n",
      "Total lines: 20641\n",
      "\n",
      "===========\n",
      "Number of files found:   4\n",
      "Total number of lines:   33504\n",
      "Average lines per file:   8376.00\n"
     ]
    }
   ],
   "source": [
    "path=r\"Data/\"\n",
    "extension = \".csv\"\n",
    "file_analysis(path, extension)"
   ]
  },
  {
   "cell_type": "code",
   "execution_count": 6,
   "id": "1156b38d",
   "metadata": {},
   "outputs": [
    {
     "name": "stdout",
     "output_type": "stream",
     "text": [
      "\n",
      "===========\n",
      "Number of files found:   0\n",
      "Total number of lines:   0\n",
      "Average lines per file:   0.00\n"
     ]
    }
   ],
   "source": [
    "path=r\"Data/\"\n",
    "file_analysis(path)"
   ]
  },
  {
   "cell_type": "code",
   "execution_count": 7,
   "id": "26f28cd8",
   "metadata": {},
   "outputs": [
    {
     "name": "stdout",
     "output_type": "stream",
     "text": [
      "Test1/first.txt\n",
      "Total lines: 4\n",
      "Test1/second.txt\n",
      "Total lines: 11\n",
      "\n",
      "===========\n",
      "Number of files found:   2\n",
      "Total number of lines:   15\n",
      "Average lines per file:   7.50\n"
     ]
    }
   ],
   "source": [
    "path=r\"Test1/\"\n",
    "file_analysis(path)"
   ]
  },
  {
   "cell_type": "code",
   "execution_count": null,
   "id": "f7a37aa2",
   "metadata": {},
   "outputs": [],
   "source": []
  }
 ],
 "metadata": {
  "kernelspec": {
   "display_name": "Python 3 (ipykernel)",
   "language": "python",
   "name": "python3"
  },
  "language_info": {
   "codemirror_mode": {
    "name": "ipython",
    "version": 3
   },
   "file_extension": ".py",
   "mimetype": "text/x-python",
   "name": "python",
   "nbconvert_exporter": "python",
   "pygments_lexer": "ipython3",
   "version": "3.9.12"
  }
 },
 "nbformat": 4,
 "nbformat_minor": 5
}
